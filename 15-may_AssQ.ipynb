{
 "cells": [
  {
   "cell_type": "code",
   "execution_count": 1,
   "id": "a9d24c8d-41a7-44e1-a974-f4741d6fbff9",
   "metadata": {},
   "outputs": [],
   "source": [
    "#1 How do you comment code in Python? What are the different types of comments?\n",
    "# This is a single-line comment\n",
    "print(\"Hello, world!\")  # This is also a single-line comment\n",
    "\n",
    "# This is a single-line comment\n",
    "print(\"Hello, world!\")  # This is also a single-line comment"
   ]
  },
  {
   "cell_type": "code",
   "execution_count": 2,
   "id": "45c86aaa-4c7f-46eb-a36b-62d5ff8b5425",
   "metadata": {},
   "outputs": [],
   "source": [
    "#2 Variable declaration and assignment\n",
    "x = 10       # Assign the integer value 10 to the variable x\n",
    "name = \"John\"  # Assign the string value \"John\" to the variable name\n",
    "pi = 3.14    # Assign the float value 3.14 to the variable pi\n",
    "\n",
    "# Variable reassignment\n",
    "x = 20       # Reassign the variable x to the integer value 20\n",
    "name = \"Alice\"  # Reassign the variable name to the string value \"Alice\"\n",
    "pi = 3.14159  # Reassign the variable pi to the float value 3.14159\n"
   ]
  },
  {
   "cell_type": "code",
   "execution_count": 3,
   "id": "265d4730-e36e-4e75-aeec-72b0d0a704ac",
   "metadata": {},
   "outputs": [],
   "source": [
    "#3\n",
    "# Convert to integer\n",
    "x = int(\"10\")\n",
    "\n",
    "# Convert to float\n",
    "y = float(\"3.14\")\n",
    "\n",
    "# Convert to string\n",
    "z = str(123)\n",
    "\n",
    "# Convert to boolean\n",
    "a = bool(0)\n",
    "\n",
    "# Convert list to tuple\n",
    "my_list = [1, 2, 3]\n",
    "my_tuple = tuple(my_list)\n",
    "\n",
    "# Convert tuple to list\n",
    "my_tuple = (1, 2, 3)\n",
    "my_list = list(my_tuple)\n"
   ]
  },
  {
   "cell_type": "code",
   "execution_count": 4,
   "id": "b8cfa2b6-fbf7-4a10-8565-e26c987f4d57",
   "metadata": {},
   "outputs": [
    {
     "ename": "SyntaxError",
     "evalue": "invalid syntax (2742523449.py, line 4)",
     "output_type": "error",
     "traceback": [
      "\u001b[0;36m  Cell \u001b[0;32mIn[4], line 4\u001b[0;36m\u001b[0m\n\u001b[0;31m    python swap_python.py\u001b[0m\n\u001b[0m           ^\u001b[0m\n\u001b[0;31mSyntaxError\u001b[0m\u001b[0;31m:\u001b[0m invalid syntax\n"
     ]
    }
   ],
   "source": [
    "#4 How do you write and execute a Python script from the command line?\n",
    "#open cmd- change drive to file location cd Documents\n",
    "#cd ~/Documents\n",
    "python swap_python.py\n"
   ]
  },
  {
   "cell_type": "code",
   "execution_count": 5,
   "id": "f098b52b-5931-4665-88b3-941f9a120046",
   "metadata": {},
   "outputs": [
    {
     "name": "stdout",
     "output_type": "stream",
     "text": [
      "[2, 3]\n"
     ]
    }
   ],
   "source": [
    "#5 \n",
    "my_list = [1, 2, 3, 4, 5]\n",
    "\n",
    "# Slice the list to obtain the sub-list [2, 3]\n",
    "sub_list = my_list[1:3]\n",
    "\n",
    "print(sub_list)  # Output: [2, 3]\n"
   ]
  },
  {
   "cell_type": "code",
   "execution_count": 6,
   "id": "b341891b-81f8-4e7b-ab6b-e9d915bb8c2f",
   "metadata": {},
   "outputs": [
    {
     "name": "stdout",
     "output_type": "stream",
     "text": [
      "(3+2j)\n",
      "Real part: 3.0\n",
      "Imaginary part: 2.0\n"
     ]
    }
   ],
   "source": [
    "#6\n",
    "# Declare a complex number\n",
    "z = 3 + 2j\n",
    "\n",
    "# Display the complex number\n",
    "print(z)  # Output: (3+2j)\n",
    "\n",
    "# Display the real and imaginary parts separately\n",
    "print(\"Real part:\", z.real)      # Output: 3.0\n",
    "print(\"Imaginary part:\", z.imag)  # Output: 2.0\n"
   ]
  },
  {
   "cell_type": "code",
   "execution_count": 7,
   "id": "4d094dc5-aa91-40bd-8647-bee353f0ab14",
   "metadata": {},
   "outputs": [],
   "source": [
    "#7\n",
    "age = 25\n"
   ]
  },
  {
   "cell_type": "code",
   "execution_count": 8,
   "id": "565036ad-1dcb-4c54-b26c-0945b3108308",
   "metadata": {},
   "outputs": [
    {
     "name": "stdout",
     "output_type": "stream",
     "text": [
      "<class 'float'>\n"
     ]
    }
   ],
   "source": [
    "#8\n",
    "price = 9.99\n",
    "print(type(price))"
   ]
  },
  {
   "cell_type": "code",
   "execution_count": 11,
   "id": "d88941bb-9530-481c-8c29-dc3cd35ead49",
   "metadata": {},
   "outputs": [
    {
     "name": "stdout",
     "output_type": "stream",
     "text": [
      "My name is swap\n",
      "<class 'str'>\n"
     ]
    }
   ],
   "source": [
    "#9\n",
    "name = 'swap'\n",
    "print(\"My name is \" + name)\n",
    "print(type(name))"
   ]
  },
  {
   "cell_type": "code",
   "execution_count": 12,
   "id": "01102539-a2f3-4f60-9ba3-909e2c84df49",
   "metadata": {},
   "outputs": [
    {
     "name": "stdout",
     "output_type": "stream",
     "text": [
      "World\n"
     ]
    }
   ],
   "source": [
    "#10\n",
    "# Given string\n",
    "s = \"Hello, World!\"\n",
    "\n",
    "# Extract substring \"World\" using slicing\n",
    "substring = s[7:12]\n",
    "\n",
    "# Print the extracted substring\n",
    "print(substring)\n"
   ]
  },
  {
   "cell_type": "code",
   "execution_count": null,
   "id": "3d56bee2-a895-42c8-9942-a09db2792b11",
   "metadata": {},
   "outputs": [],
   "source": [
    "#11\n",
    "is_student = True  # Set to True if you are currently a student, False otherwise\n"
   ]
  }
 ],
 "metadata": {
  "kernelspec": {
   "display_name": "Python 3 (ipykernel)",
   "language": "python",
   "name": "python3"
  },
  "language_info": {
   "codemirror_mode": {
    "name": "ipython",
    "version": 3
   },
   "file_extension": ".py",
   "mimetype": "text/x-python",
   "name": "python",
   "nbconvert_exporter": "python",
   "pygments_lexer": "ipython3",
   "version": "3.10.8"
  }
 },
 "nbformat": 4,
 "nbformat_minor": 5
}

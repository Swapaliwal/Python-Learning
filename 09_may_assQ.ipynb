{
 "cells": [
  {
   "cell_type": "code",
   "execution_count": 10,
   "id": "d1d45108-085e-4502-952c-0370803a45ee",
   "metadata": {},
   "outputs": [
    {
     "name": "stdout",
     "output_type": "stream",
     "text": [
      "<class 'str'>\n",
      "<class 'int'>\n",
      "<class 'bool'>\n",
      "<class 'str'>\n",
      "<class 'float'>\n",
      "<class 'list'>\n"
     ]
    }
   ],
   "source": [
    "#1\n",
    "s = ['i',1,True,'asd',12.34, [12,12]]\n",
    "for i in s:\n",
    "    print(type(i))"
   ]
  },
  {
   "cell_type": "code",
   "execution_count": 14,
   "id": "95d74b5f-ac31-4ec3-b38e-d60f34c337a4",
   "metadata": {},
   "outputs": [
    {
     "name": "stdout",
     "output_type": "stream",
     "text": [
      "<class 'str'>\n",
      "<class 'str'>\n",
      "<class 'list'>\n",
      "<class 'float'>\n"
     ]
    }
   ],
   "source": [
    "#2\n",
    "var1 = ' '\n",
    "var2 = '[ DS , ML , Python]'\n",
    "var3 = [ 'DS' , 'ML' , 'Python' ]\n",
    "var4 = 1.\n",
    "var5 = [var1, var2, var3, var4]\n",
    "for i in var5:\n",
    "    print(type(i))"
   ]
  },
  {
   "cell_type": "code",
   "execution_count": 17,
   "id": "0c547292-45d8-4453-95da-fc13bd907814",
   "metadata": {},
   "outputs": [
    {
     "name": "stdout",
     "output_type": "stream",
     "text": [
      "5.0 0 5 10000000000000000000000000000000000000000\n"
     ]
    }
   ],
   "source": [
    "#3\n",
    "a= 100\n",
    "b=20\n",
    "c =  a/b\n",
    "d = a%b\n",
    "e = a//b\n",
    "f = a**b\n",
    "print (c,d,e,f)"
   ]
  },
  {
   "cell_type": "code",
   "execution_count": 21,
   "id": "232ed191-562b-471c-aaef-f5ca7dcd49b0",
   "metadata": {},
   "outputs": [
    {
     "name": "stdout",
     "output_type": "stream",
     "text": [
      "ikj <class 'str'>\n",
      "1 <class 'int'>\n",
      "True <class 'bool'>\n",
      "asd <class 'str'>\n",
      "12.34 <class 'float'>\n",
      "[12, 12] <class 'list'>\n",
      "{False} <class 'set'>\n",
      "(2, 4, 'a') <class 'tuple'>\n"
     ]
    }
   ],
   "source": [
    "#4\n",
    "s = ['ikj',1,True,'asd',12.34, [12,12],{'a'==12,'b'==24},(2,4,'a')]\n",
    "for i in s:\n",
    "    print(i,type(i))"
   ]
  },
  {
   "cell_type": "code",
   "execution_count": 22,
   "id": "8834e71e-03fb-4222-9329-d5c14d024584",
   "metadata": {},
   "outputs": [
    {
     "name": "stdout",
     "output_type": "stream",
     "text": [
      "100 is divisible by 5 2 times\n"
     ]
    }
   ],
   "source": [
    "#5\n",
    "def count_divisible(A, B):\n",
    "    count = 0\n",
    "    while A % B == 0:\n",
    "        count += 1\n",
    "        A //= B  # Integer division to update A with the result of the division\n",
    "    return count\n",
    "\n",
    "# Example usage:\n",
    "A = 100\n",
    "B = 5\n",
    "divisible_count = count_divisible(A, B)\n",
    "if divisible_count > 0:\n",
    "    print(f\"{A} is divisible by {B} {divisible_count} times\")\n",
    "else:\n",
    "    print(f\"{A} is not divisible by {B}\")\n"
   ]
  },
  {
   "cell_type": "code",
   "execution_count": 23,
   "id": "29b645c1-6976-4e3b-a8b7-151571c93f3a",
   "metadata": {},
   "outputs": [
    {
     "name": "stdout",
     "output_type": "stream",
     "text": [
      "1 is not divisible by 3\n",
      "2 is not divisible by 3\n",
      "3 is divisible by 3\n",
      "4 is not divisible by 3\n",
      "5 is not divisible by 3\n",
      "6 is divisible by 3\n",
      "7 is not divisible by 3\n",
      "8 is not divisible by 3\n",
      "9 is divisible by 3\n",
      "10 is not divisible by 3\n",
      "11 is not divisible by 3\n",
      "12 is divisible by 3\n",
      "13 is not divisible by 3\n",
      "14 is not divisible by 3\n",
      "15 is divisible by 3\n",
      "16 is not divisible by 3\n",
      "17 is not divisible by 3\n",
      "18 is divisible by 3\n",
      "19 is not divisible by 3\n",
      "20 is not divisible by 3\n",
      "21 is divisible by 3\n",
      "22 is not divisible by 3\n",
      "23 is not divisible by 3\n",
      "24 is divisible by 3\n",
      "25 is not divisible by 3\n"
     ]
    }
   ],
   "source": [
    "#6\n",
    "# Create a list containing 25 integers\n",
    "my_list = list(range(1, 26))\n",
    "\n",
    "# Iterate over each element in the list\n",
    "for num in my_list:\n",
    "    # Check if the element is divisible by 3\n",
    "    if num % 3 == 0:\n",
    "        print(f\"{num} is divisible by 3\")\n",
    "    else:\n",
    "        print(f\"{num} is not divisible by 3\")\n"
   ]
  },
  {
   "cell_type": "code",
   "execution_count": 24,
   "id": "283c24fd-4737-440c-9075-a4f2f7046877",
   "metadata": {},
   "outputs": [
    {
     "name": "stdout",
     "output_type": "stream",
     "text": [
      "15\n",
      "hello world\n",
      "(1, 2, 3, 4, 5)\n",
      "[1, 2, 3, 4]\n",
      "{'a': 1, 'b': 2, 'c': 3}\n"
     ]
    }
   ],
   "source": [
    "#7\n",
    "# Immutable data types\n",
    "x = 10          # Integer\n",
    "y = \"hello\"     # String\n",
    "z = (1, 2, 3)   # Tuple\n",
    "\n",
    "# Attempt to modify immutable objects\n",
    "x += 5          # Creates a new integer object with value 15, x remains unchanged\n",
    "y += \" world\"   # Creates a new string object \"hello world\", y remains unchanged\n",
    "z += (4, 5)     # Creates a new tuple (1, 2, 3, 4, 5), z remains unchanged\n",
    "\n",
    "print(x)        # Output: 10\n",
    "print(y)        # Output: hello\n",
    "print(z)        # Output: (1, 2, 3)\n",
    "\n",
    "# Mutable data types\n",
    "a = [1, 2, 3]       # List\n",
    "b = {'a': 1, 'b': 2}# Dictionary\n",
    "\n",
    "# Modify mutable objects\n",
    "a.append(4)         # Modifies the list in-place, adding 4 to it\n",
    "b['c'] = 3          # Modifies the dictionary in-place, adding a new key-value pair\n",
    "\n",
    "print(a)            # Output: [1, 2, 3, 4]\n",
    "print(b)            # Output: {'a': 1, 'b': 2, 'c': 3}\n"
   ]
  },
  {
   "cell_type": "code",
   "execution_count": null,
   "id": "ba21bf2a-6c60-4288-955b-ed04a735ef66",
   "metadata": {},
   "outputs": [],
   "source": []
  }
 ],
 "metadata": {
  "kernelspec": {
   "display_name": "Python 3 (ipykernel)",
   "language": "python",
   "name": "python3"
  },
  "language_info": {
   "codemirror_mode": {
    "name": "ipython",
    "version": 3
   },
   "file_extension": ".py",
   "mimetype": "text/x-python",
   "name": "python",
   "nbconvert_exporter": "python",
   "pygments_lexer": "ipython3",
   "version": "3.10.8"
  }
 },
 "nbformat": 4,
 "nbformat_minor": 5
}
